{
 "cells": [
  {
   "cell_type": "markdown",
   "id": "a853c25d-0fb0-4b90-9666-455d09b9a78f",
   "metadata": {},
   "source": [
    "Q.1"
   ]
  },
  {
   "cell_type": "code",
   "execution_count": 3,
   "id": "a5490a76-482f-4d7e-b2dc-86e28f879c5b",
   "metadata": {},
   "outputs": [
    {
     "name": "stdout",
     "output_type": "stream",
     "text": [
      "[1, 3, 5, 7, 9, 11, 13, 15, 17, 19, 21, 23, 25]\n"
     ]
    }
   ],
   "source": [
    "def test1():\n",
    "    l1 = []\n",
    "    for number in range (1,26):\n",
    "        if number % 2 != 0:\n",
    "            l1.append(number)\n",
    "    return l1\n",
    "\n",
    "result = test1()\n",
    "print(result)"
   ]
  },
  {
   "cell_type": "markdown",
   "id": "7e7a1e85-28b9-4746-9997-422ba2ac95d1",
   "metadata": {},
   "source": [
    "Q.2"
   ]
  },
  {
   "cell_type": "code",
   "execution_count": 4,
   "id": "1672f8dc-404c-4487-bff4-aa5e39e8096f",
   "metadata": {},
   "outputs": [],
   "source": [
    "# example function of *args\n",
    "def print_args(*args):\n",
    "    for arg in args:\n",
    "        print(arg)\n"
   ]
  },
  {
   "cell_type": "code",
   "execution_count": 5,
   "id": "4dbffa84-3546-4d1a-850a-3ea639a2a373",
   "metadata": {},
   "outputs": [
    {
     "name": "stdout",
     "output_type": "stream",
     "text": [
      "7\n",
      "3\n",
      "8\n",
      "2\n"
     ]
    }
   ],
   "source": [
    "print_args(7,3,8,2)"
   ]
  },
  {
   "cell_type": "code",
   "execution_count": 6,
   "id": "59cbc88c-695c-41ce-a648-7cfe081719a5",
   "metadata": {},
   "outputs": [],
   "source": [
    "#example function of **kwargs\n",
    "def print_kwargs(**kwargs):\n",
    "    for key , value in kwargs.items():\n",
    "        print(f\"{key}:{value}\")"
   ]
  },
  {
   "cell_type": "code",
   "execution_count": 7,
   "id": "7f0eae4b-bb12-4331-a035-fef58b2d8864",
   "metadata": {},
   "outputs": [
    {
     "name": "stdout",
     "output_type": "stream",
     "text": [
      "name:gyanaranjan\n",
      "age:19\n",
      "city:odisha\n"
     ]
    }
   ],
   "source": [
    "print_kwargs(name=\"gyanaranjan\",age=19,city=\"odisha\")"
   ]
  },
  {
   "cell_type": "markdown",
   "id": "5d6b31bc-1703-41a8-9f88-f67b2240da3f",
   "metadata": {},
   "source": [
    "Q.3"
   ]
  },
  {
   "cell_type": "markdown",
   "id": "e3816b0b-0625-43a9-bfe4-3e3f15df0dc0",
   "metadata": {},
   "source": [
    " An iterator is an object that contains a countable number of values. An iterator is an object that can be iterated upon, meaning that you can traverse through all the values. Technically, in Python, an iterator is an object which implements the iterator protocol, which consist of the methods __iter__() and __next__() ."
   ]
  },
  {
   "cell_type": "code",
   "execution_count": 8,
   "id": "b0f47212-4ec8-4fec-9e94-e6b497a5dc3c",
   "metadata": {},
   "outputs": [
    {
     "name": "stdout",
     "output_type": "stream",
     "text": [
      "2\n",
      "4\n",
      "6\n",
      "8\n",
      "10\n"
     ]
    }
   ],
   "source": [
    "# Example\n",
    "my_list = [2,4,6,8,10,12,14,16,18,20]\n",
    "my_iterator = iter(my_list)\n",
    "for _ in range(5):\n",
    "    element = next(my_iterator)\n",
    "    print(element)"
   ]
  },
  {
   "cell_type": "markdown",
   "id": "995c5e23-0b99-450d-9c24-0cb990a69c54",
   "metadata": {},
   "source": [
    "Q.4"
   ]
  },
  {
   "cell_type": "markdown",
   "id": "1b67457d-bc9a-47b4-9748-315ca2f96608",
   "metadata": {},
   "source": [
    "The Yield keyword in Python is similar to a return statement used for returning values or objects in Python. However, there is a slight difference. The yield statement returns a generator object to the one who calls the function which contains yield, instead of simply returning a value."
   ]
  },
  {
   "cell_type": "code",
   "execution_count": 10,
   "id": "39ee67a6-fa50-4f8e-8923-ff0b56b0b10a",
   "metadata": {},
   "outputs": [],
   "source": [
    "#example generator functon\n",
    "def fib():\n",
    "    a,b =0,1\n",
    "    while True :\n",
    "        yield a\n",
    "        a,b =b,a+b"
   ]
  },
  {
   "cell_type": "code",
   "execution_count": 11,
   "id": "47b1d2db-d7da-44ae-8287-1d12d4ae9e3b",
   "metadata": {},
   "outputs": [
    {
     "name": "stdout",
     "output_type": "stream",
     "text": [
      "0\n",
      "1\n",
      "1\n",
      "2\n",
      "3\n",
      "5\n",
      "8\n",
      "13\n",
      "21\n",
      "34\n"
     ]
    }
   ],
   "source": [
    "fib_gen = fib()\n",
    "for i in range(10):\n",
    "    print(next(fib_gen))"
   ]
  },
  {
   "cell_type": "markdown",
   "id": "ec0f44e5-06ea-4e21-af3c-6eb84a998f79",
   "metadata": {},
   "source": [
    "Q.5"
   ]
  },
  {
   "cell_type": "code",
   "execution_count": 21,
   "id": "e909bf4b-ab48-4689-bb08-d90cbe539919",
   "metadata": {},
   "outputs": [],
   "source": [
    "def prime_generator():\n",
    "    primes = []\n",
    "    num = 2\n",
    "    while num < 1000:\n",
    "        is_prime = True\n",
    "        for prime in primes:\n",
    "            if num % prime == 0:\n",
    "                is_prime = False\n",
    "                break\n",
    "        if is_prime:\n",
    "            primes.append(num)\n",
    "            yield num\n",
    "        num += 1"
   ]
  },
  {
   "cell_type": "code",
   "execution_count": 22,
   "id": "a3894535-5a0b-4324-b840-9538db7f914e",
   "metadata": {},
   "outputs": [
    {
     "name": "stdout",
     "output_type": "stream",
     "text": [
      "2\n",
      "3\n",
      "5\n",
      "7\n",
      "11\n",
      "13\n",
      "17\n",
      "19\n",
      "23\n",
      "29\n",
      "31\n",
      "37\n",
      "41\n",
      "43\n",
      "47\n",
      "53\n",
      "59\n",
      "61\n",
      "67\n",
      "71\n"
     ]
    }
   ],
   "source": [
    "prime_gen = prime_generator()\n",
    "\n",
    "for _ in range(20):\n",
    "    prime = next(prime_gen)\n",
    "    print(prime)\n"
   ]
  },
  {
   "cell_type": "markdown",
   "id": "70ab8df2-d3d2-4b71-8c29-a5e9e28b64c6",
   "metadata": {},
   "source": [
    "Q.6"
   ]
  },
  {
   "cell_type": "code",
   "execution_count": 24,
   "id": "4974a2c4-27d8-48c3-a430-206b90a7c44d",
   "metadata": {},
   "outputs": [
    {
     "name": "stdout",
     "output_type": "stream",
     "text": [
      "0\n",
      "1\n",
      "1\n",
      "2\n",
      "3\n",
      "5\n",
      "8\n",
      "13\n",
      "21\n",
      "34\n"
     ]
    }
   ],
   "source": [
    "# Function to print the first 10 Fibonacci numbers\n",
    "def print_fib():\n",
    "    num1, num2 = 0, 1\n",
    "    count = 0\n",
    "    while count < 10:\n",
    "        print(num1)\n",
    "        nth = num1 + num2\n",
    "        num1 = num2\n",
    "        num2 = nth\n",
    "        count += 1\n",
    "\n",
    "# Call the function to print the first 10 Fibonacci numbers\n",
    "print_fib()"
   ]
  },
  {
   "cell_type": "markdown",
   "id": "257c6620-de89-492f-b974-1c13883d5710",
   "metadata": {},
   "source": [
    "Q.7"
   ]
  },
  {
   "cell_type": "code",
   "execution_count": 27,
   "id": "1cb4352a-fdf2-4474-bc2f-474bba4f1cce",
   "metadata": {},
   "outputs": [
    {
     "data": {
      "text/plain": [
       "['P', 'W', 'S', 'K', 'I', 'L', 'L', 'S']"
      ]
     },
     "execution_count": 27,
     "metadata": {},
     "output_type": "execute_result"
    }
   ],
   "source": [
    "s = \"pwskills\"\n",
    "list(map(lambda s : s.upper() ,s ))"
   ]
  },
  {
   "cell_type": "markdown",
   "id": "f3f184bb-c147-4a49-b5b6-d0e6f74db8d8",
   "metadata": {},
   "source": [
    "Q.8"
   ]
  },
  {
   "cell_type": "code",
   "execution_count": 29,
   "id": "03654ce7-7de6-4412-8f81-1ac3cfc1bdf1",
   "metadata": {},
   "outputs": [
    {
     "name": "stdin",
     "output_type": "stream",
     "text": [
      "Enter a number:  10\n"
     ]
    },
    {
     "name": "stdout",
     "output_type": "stream",
     "text": [
      "10 is not a palindrome\n"
     ]
    }
   ],
   "source": [
    "def is_palindrome(number):\n",
    "    original_number = number\n",
    "    reversed_number = 0\n",
    "    \n",
    "    while number > 0:\n",
    "        digit = number % 10\n",
    "        reversed_number = (reversed_number * 10) + digit\n",
    "        number = number // 10\n",
    "    \n",
    "    if original_number == reversed_number:\n",
    "        return True\n",
    "    else:\n",
    "        return False\n",
    "\n",
    "# Test the function\n",
    "number = int(input(\"Enter a number: \"))\n",
    "if is_palindrome(number):\n",
    "    print(number, \"is a palindrome\")\n",
    "else:\n",
    "    print(number, \"is not a palindrome\")\n"
   ]
  },
  {
   "cell_type": "markdown",
   "id": "e58b0b82-5c04-464a-b339-8af2025cfc67",
   "metadata": {},
   "source": [
    "Q.9"
   ]
  },
  {
   "cell_type": "code",
   "execution_count": 30,
   "id": "5677721f-6db1-40a6-94a2-8822c3d76398",
   "metadata": {},
   "outputs": [
    {
     "name": "stdout",
     "output_type": "stream",
     "text": [
      "[1, 3, 5, 7, 9, 11, 13, 15, 17, 19, 21, 23, 25, 27, 29, 31, 33, 35, 37, 39, 41, 43, 45, 47, 49, 51, 53, 55, 57, 59, 61, 63, 65, 67, 69, 71, 73, 75, 77, 79, 81, 83, 85, 87, 89, 91, 93, 95, 97, 99]\n"
     ]
    }
   ],
   "source": [
    "odd_numbers = [num for num in range(1, 101) if num % 2 != 0]\n",
    "print(odd_numbers)"
   ]
  },
  {
   "cell_type": "code",
   "execution_count": null,
   "id": "96c7909a-0399-4707-8588-50f5094b9aa1",
   "metadata": {},
   "outputs": [],
   "source": []
  }
 ],
 "metadata": {
  "kernelspec": {
   "display_name": "Python 3 (ipykernel)",
   "language": "python",
   "name": "python3"
  },
  "language_info": {
   "codemirror_mode": {
    "name": "ipython",
    "version": 3
   },
   "file_extension": ".py",
   "mimetype": "text/x-python",
   "name": "python",
   "nbconvert_exporter": "python",
   "pygments_lexer": "ipython3",
   "version": "3.10.8"
  }
 },
 "nbformat": 4,
 "nbformat_minor": 5
}
